{
 "cells": [
  {
   "cell_type": "code",
   "execution_count": 1,
   "id": "84e7c385-68d0-456c-b7ca-80196cc35b6c",
   "metadata": {
    "editable": true,
    "slideshow": {
     "slide_type": ""
    },
    "tags": []
   },
   "outputs": [
    {
     "name": "stdin",
     "output_type": "stream",
     "text": [
      "Enter the desired team size:  3\n"
     ]
    },
    {
     "name": "stdout",
     "output_type": "stream",
     "text": [
      "\n",
      "Team Assignments:\n",
      "Team 1: Yasmine, Emily, Andrew\n",
      "Team 2: Catie, Iran, Aryaman\n",
      "Team 3: Camille, Jasmine, Nathan\n"
     ]
    }
   ],
   "source": [
    "import random\n",
    "\n",
    "def assign_teams(names, team_size):\n",
    "    # Shuffle the list of names\n",
    "    random.shuffle(names)\n",
    "    \n",
    "    # Calculate the number of full teams\n",
    "    num_full_teams = len(names) // team_size\n",
    "    \n",
    "    # Create full teams\n",
    "    teams = [names[i:i+team_size] for i in range(0, num_full_teams * team_size, team_size)]\n",
    "    \n",
    "    # Add any remaining members to the last team\n",
    "    if len(names) % team_size != 0:\n",
    "        teams.append(names[num_full_teams * team_size:])\n",
    "    \n",
    "    return teams\n",
    "\n",
    "def main():\n",
    "    # Get input from user\n",
    "    names =  [\"Nathan\", \"Yasmine\", \"Camille\", \"Iran\", \"Aryaman\", \"Jasmine\", \"Catie\", \"Andrew\", \"Emily\"] #input(\"Enter names separated by commas: \").split(',')\n",
    "    names = [name.strip() for name in names]  # Remove any whitespace\n",
    "    \n",
    "    team_size = int(input(\"Enter the desired team size: \"))\n",
    "    \n",
    "    # Assign teams\n",
    "    teams = assign_teams(names, team_size)\n",
    "    \n",
    "    # Report results\n",
    "    print(\"\\nTeam Assignments:\")\n",
    "    for i, team in enumerate(teams, 1):\n",
    "        print(f\"Team {i}: {', '.join(team)}\")\n",
    "\n",
    "if __name__ == \"__main__\":\n",
    "    main()"
   ]
  },
  {
   "cell_type": "code",
   "execution_count": null,
   "id": "eb2c9d7f-7798-4059-b441-fdcc89a7d58a",
   "metadata": {},
   "outputs": [],
   "source": []
  }
 ],
 "metadata": {
  "kernelspec": {
   "display_name": "Python 3 (ipykernel)",
   "language": "python",
   "name": "python3"
  },
  "language_info": {
   "codemirror_mode": {
    "name": "ipython",
    "version": 3
   },
   "file_extension": ".py",
   "mimetype": "text/x-python",
   "name": "python",
   "nbconvert_exporter": "python",
   "pygments_lexer": "ipython3",
   "version": "3.11.9"
  }
 },
 "nbformat": 4,
 "nbformat_minor": 5
}
